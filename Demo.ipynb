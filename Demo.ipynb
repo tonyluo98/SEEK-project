{
 "cells": [
  {
   "cell_type": "markdown",
   "metadata": {},
   "source": [
    "# Mixing Paint: \n",
    "\n",
    "This notebook will demonstrate the result of mixing different colour paints to get a different colour paint\n",
    "Many Colours will be tested, but firstly, we will start with primary colour mixing"
   ]
  },
  {
   "cell_type": "markdown",
   "metadata": {},
   "source": [
    "Import library to access FAIRDOM"
   ]
  },
  {
   "cell_type": "code",
   "execution_count": 1,
   "metadata": {},
   "outputs": [],
   "source": [
    "import seek_library as s \n",
    "x= s.SEEK()"
   ]
  },
  {
   "cell_type": "markdown",
   "metadata": {},
   "source": [
    "Investigation about Temperature Effects\n",
    "Taken from FAIRDOM\n",
    "\n",
    "Will be useful to see if it will affect our investigation!"
   ]
  },
  {
   "cell_type": "markdown",
   "metadata": {},
   "source": [
    "# NEW Investigation download\n",
    "\n",
    "View investigation 289"
   ]
  },
  {
   "cell_type": "code",
   "execution_count": 2,
   "metadata": {},
   "outputs": [
    {
     "name": "stdout",
     "output_type": "stream",
     "text": [
      "Web Page does not exist\n",
      "invalid for investigations 289\n"
     ]
    },
    {
     "data": {
      "application/vnd.jupyter.widget-view+json": {
       "model_id": "240273a87da84624a53f2c6cd776aca9",
       "version_major": 2,
       "version_minor": 0
      },
      "text/plain": [
       "Button(description='Convert widgets to text', style=ButtonStyle(), tooltip='Click me')"
      ]
     },
     "metadata": {},
     "output_type": "display_data"
    }
   ],
   "source": [
    "x.query()"
   ]
  },
  {
   "cell_type": "code",
   "execution_count": 5,
   "metadata": {},
   "outputs": [
    {
     "data": {
      "application/vnd.jupyter.widget-view+json": {
       "model_id": "f4b953972db94e11b24e7d062cf12979",
       "version_major": 2,
       "version_minor": 0
      },
      "text/plain": [
       "HTML(value='<h1><u>Temperature effects on Arabidopsis floral induction at the leaf-specific level</u></h1>')"
      ]
     },
     "metadata": {},
     "output_type": "display_data"
    },
    {
     "name": "stdout",
     "output_type": "stream",
     "text": [
      "Project to test effects of temperature cycles on expression of Arabidopsis florigen gene FT, and whether these are mediated by temperature-dependent leaf development or temperature-specific FT expression, or both. Re-used and extended Arabidopsis Framework Model v1 to address this question. Led by Hannah Kinmonth-Schultz in Kim and Imaizumi labs, collaborating with Millar lab.\n"
     ]
    },
    {
     "data": {
      "application/vnd.jupyter.widget-view+json": {
       "model_id": "35bec445edaa405fa71e0bb5a3857810",
       "version_major": 2,
       "version_minor": 0
      },
      "text/plain": [
       "Button(description='Convert widgets to text', style=ButtonStyle(), tooltip='Click me')"
      ]
     },
     "metadata": {},
     "output_type": "display_data"
    }
   ],
   "source": [
    "x.search()"
   ]
  },
  {
   "cell_type": "markdown",
   "metadata": {},
   "source": [
    "# Lets investigate Biomass of leaves\n",
    "\n",
    "This is data file 2222 on the fairdom website \n",
    "This will help us access and locate a data file for us to compare\n"
   ]
  },
  {
   "cell_type": "code",
   "execution_count": 14,
   "metadata": {},
   "outputs": [
    {
     "data": {
      "application/vnd.jupyter.widget-view+json": {
       "model_id": "ddee37a07b1d4967a86c586515cf3d31",
       "version_major": 2,
       "version_minor": 0
      },
      "text/plain": [
       "HTML(value='<h1><u>Fei He</u></h1>')"
      ]
     },
     "metadata": {},
     "output_type": "display_data"
    },
    {
     "name": "stdout",
     "output_type": "stream",
     "text": [
      "\n"
     ]
    },
    {
     "data": {
      "application/vnd.jupyter.widget-view+json": {
       "model_id": "26540de783e74f8a99d8013cdbda159f",
       "version_major": 2,
       "version_minor": 0
      },
      "text/plain": [
       "Tab(children=(VBox(children=(SelectMultiple(description='Title :', index=(0,), layout=Layout(width='400px'), o…"
      ]
     },
     "metadata": {},
     "output_type": "display_data"
    },
    {
     "data": {
      "application/vnd.jupyter.widget-view+json": {
       "model_id": "9722d518c9cd4c51979227cd620d9425",
       "version_major": 2,
       "version_minor": 0
      },
      "text/plain": [
       "Tab(children=(VBox(children=(SelectMultiple(description='Title :', index=(0,), layout=Layout(width='850px'), o…"
      ]
     },
     "metadata": {},
     "output_type": "display_data"
    },
    {
     "data": {
      "application/vnd.jupyter.widget-view+json": {
       "model_id": "3e5a7e7836bc48629f3974e4993d5e19",
       "version_major": 2,
       "version_minor": 0
      },
      "text/plain": [
       "Button(description='Convert widgets to text', style=ButtonStyle(), tooltip='Click me')"
      ]
     },
     "metadata": {},
     "output_type": "display_data"
    }
   ],
   "source": [
    "x.query()"
   ]
  },
  {
   "cell_type": "markdown",
   "metadata": {},
   "source": [
    "Login to access our files on the FAIRDOM website for use in this assay"
   ]
  },
  {
   "cell_type": "code",
   "execution_count": 7,
   "metadata": {},
   "outputs": [
    {
     "name": "stdout",
     "output_type": "stream",
     "text": [
      "Username:tonyluo\n",
      "Password········\n"
     ]
    }
   ],
   "source": [
    "x.auth()"
   ]
  },
  {
   "cell_type": "markdown",
   "metadata": {},
   "source": [
    "Now we need to change the webbsite we are accessing our data from\n",
    "This is for demo purposes only and not for the actual project. \n",
    "A sandbox (replica of the FAIRDOM) is used to prevent me from overpopulating a data base / deleting important data"
   ]
  },
  {
   "cell_type": "code",
   "execution_count": 15,
   "metadata": {},
   "outputs": [
    {
     "name": "stdout",
     "output_type": "stream",
     "text": [
      "1: https://www.fairdomhub.org\n",
      "2: https://sandbox3.fairdomhub.org\n",
      "Please choose url 1 or 2:\n",
      "1\n",
      "You entered 1\n"
     ]
    }
   ],
   "source": [
    "x.change_url()"
   ]
  },
  {
   "cell_type": "markdown",
   "metadata": {},
   "source": [
    "Investigation 16 \n",
    "\n",
    "Study 10"
   ]
  },
  {
   "cell_type": "code",
   "execution_count": 9,
   "metadata": {},
   "outputs": [
    {
     "name": "stdout",
     "output_type": "stream",
     "text": [
      "Investigation of MIXING primary Colours\n",
      "\n",
      "This is investigation the effect of mixing the colours Red, Yellow and Blue\n"
     ]
    }
   ],
   "source": [
    "x.query()"
   ]
  },
  {
   "cell_type": "markdown",
   "metadata": {},
   "source": [
    "assay type : 'http://jermontology.org/ontology/JERMOntology#Metabolomics'\n",
    "\n",
    "tech Type  : 'http://jermontology.org/ontology/JERMOntology#Electrophoresis'"
   ]
  },
  {
   "cell_type": "code",
   "execution_count": 11,
   "metadata": {
    "scrolled": false
   },
   "outputs": [
    {
     "data": {
      "application/vnd.jupyter.widget-view+json": {
       "model_id": "85f7966bf093470585635b089305a820",
       "version_major": 2,
       "version_minor": 0
      },
      "text/plain": [
       "Tab(children=(VBox(children=(Dropdown(description='Create :', options=('Investigation', 'Study', 'Assay', 'Dat…"
      ]
     },
     "metadata": {},
     "output_type": "display_data"
    },
    {
     "data": {
      "application/vnd.jupyter.widget-view+json": {
       "model_id": "ccc1994263f046789a78adde8960403a",
       "version_major": 2,
       "version_minor": 0
      },
      "text/plain": [
       "Tab(children=(VBox(children=(Accordion(children=(VBox(children=(Text(value='', description='Title :', layout=L…"
      ]
     },
     "metadata": {},
     "output_type": "display_data"
    },
    {
     "name": "stdout",
     "output_type": "stream",
     "text": [
      "SUCCESSFULLY POSTED\n",
      "https://sandbox3.fairdomhub.org/data_files/21\n",
      "SUCCESSFULLY POSTED\n",
      "https://sandbox3.fairdomhub.org/assays/22\n"
     ]
    }
   ],
   "source": [
    "x.post()"
   ]
  },
  {
   "cell_type": "code",
   "execution_count": 12,
   "metadata": {},
   "outputs": [
    {
     "data": {
      "application/vnd.jupyter.widget-view+json": {
       "model_id": "19a67f71e0a841bda82f6d1555729f53",
       "version_major": 2,
       "version_minor": 0
      },
      "text/plain": [
       "HTML(value='<h1><u>Jupyter notebook with research</u></h1>')"
      ]
     },
     "metadata": {},
     "output_type": "display_data"
    },
    {
     "name": "stdout",
     "output_type": "stream",
     "text": [
      "notebook\n"
     ]
    },
    {
     "data": {
      "text/html": [
       "<h4>File Name: nb</h4>"
      ],
      "text/plain": [
       "<IPython.core.display.HTML object>"
      ]
     },
     "metadata": {},
     "output_type": "display_data"
    },
    {
     "name": "stdout",
     "output_type": "stream",
     "text": [
      "Not acceptable\n",
      "invalid for <class 'type'>\n",
      "Can not display file \n",
      "Reason could be : permission is not allowed \n",
      "                  file is not a excel sheet \n"
     ]
    },
    {
     "data": {
      "text/plain": [
       "None"
      ]
     },
     "metadata": {},
     "output_type": "display_data"
    },
    {
     "name": "stdout",
     "output_type": "stream",
     "text": [
      "Download link: https://sandbox3.fairdomhub.org/data_files/21/content_blobs/31/download\n",
      "\n"
     ]
    },
    {
     "data": {
      "application/vnd.jupyter.widget-view+json": {
       "model_id": "383967e30fec4d8fbdd587dcec72e19e",
       "version_major": 2,
       "version_minor": 0
      },
      "text/plain": [
       "Tab(children=(VBox(children=(SelectMultiple(description='Name :', layout=Layout(width='400px'), options=(), ro…"
      ]
     },
     "metadata": {},
     "output_type": "display_data"
    },
    {
     "data": {
      "application/vnd.jupyter.widget-view+json": {
       "model_id": "dff9c1e9935146a9bfe2f6c8cb96dfd7",
       "version_major": 2,
       "version_minor": 0
      },
      "text/plain": [
       "Tab(children=(VBox(children=(SelectMultiple(description='Title :', index=(0,), layout=Layout(width='850px'), o…"
      ]
     },
     "metadata": {},
     "output_type": "display_data"
    },
    {
     "data": {
      "application/vnd.jupyter.widget-view+json": {
       "model_id": "87e024298fdf4a3d97d4c302927af9f5",
       "version_major": 2,
       "version_minor": 0
      },
      "text/plain": [
       "Button(description='Convert widgets to text', style=ButtonStyle(), tooltip='Click me')"
      ]
     },
     "metadata": {},
     "output_type": "display_data"
    }
   ],
   "source": [
    "x.query()"
   ]
  },
  {
   "cell_type": "markdown",
   "metadata": {},
   "source": [
    "Would like to update and make a new link but also change description\n",
    "\n",
    "link to data :\n",
    "https://www.google.com/search?q=orange&tbm=isch&source=iu&ictx=1&fir=Y3zUF7GtiQ-OyM%253A%252CAyIHPgC6DFoJ_M%252C_&vet=1&usg=AI4_-kSgYnZsu6-osniaHQLpa42cN7ih1Q&sa=X&ved=2ahUKEwjn1_2FoIToAhX_SxUIHQ0oD_wQ9QEwBXoECAYQOA#imgrc=Y3zUF7GtiQ-OyM:\n",
    "\n",
    "Jupyter notebook link :\n",
    "https://github.com/tonyluo98/demoNotebook/blob/master/Demo.ipynb\n"
   ]
  },
  {
   "cell_type": "code",
   "execution_count": 13,
   "metadata": {},
   "outputs": [
    {
     "data": {
      "application/vnd.jupyter.widget-view+json": {
       "model_id": "cce6b67901204246a93cb2124a7a26b0",
       "version_major": 2,
       "version_minor": 0
      },
      "text/plain": [
       "Tab(children=(VBox(children=(Dropdown(description='Update :', options=('Investigation', 'Study', 'Assay', 'Dat…"
      ]
     },
     "metadata": {},
     "output_type": "display_data"
    },
    {
     "data": {
      "application/vnd.jupyter.widget-view+json": {
       "model_id": "272afe8dc9e54787915b65f33281cd35",
       "version_major": 2,
       "version_minor": 0
      },
      "text/plain": [
       "Tab(children=(VBox(children=(Accordion(children=(VBox(children=(Text(value='', description='Title :', layout=L…"
      ]
     },
     "metadata": {},
     "output_type": "display_data"
    },
    {
     "name": "stdout",
     "output_type": "stream",
     "text": [
      "SUCCESSFULLY POSTED\n",
      "https://sandbox3.fairdomhub.org/data_files/21\n",
      "SUCCESSFULLY POSTED\n",
      "https://sandbox3.fairdomhub.org/assays/22\n",
      "SUCCESSFULLY POSTED\n",
      "https://sandbox3.fairdomhub.org/assays/17\n"
     ]
    }
   ],
   "source": [
    "x.post()"
   ]
  }
 ],
 "metadata": {
  "kernelspec": {
   "display_name": "Python 3",
   "language": "python",
   "name": "python3"
  },
  "language_info": {
   "codemirror_mode": {
    "name": "ipython",
    "version": 3
   },
   "file_extension": ".py",
   "mimetype": "text/x-python",
   "name": "python",
   "nbconvert_exporter": "python",
   "pygments_lexer": "ipython3",
   "version": "3.6.9"
  }
 },
 "nbformat": 4,
 "nbformat_minor": 1
}
