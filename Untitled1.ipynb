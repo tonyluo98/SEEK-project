{
 "cells": [
  {
   "cell_type": "code",
   "execution_count": 1,
   "metadata": {},
   "outputs": [
    {
     "name": "stdout",
     "output_type": "stream",
     "text": [
      "Project: Biomass of Col-0 Arabidopsis rosette and individual leaves\n",
      "\n"
     ]
    },
    {
     "data": {
      "text/plain": [
       "{'data': {'id': '2222',\n",
       "  'type': 'data_files',\n",
       "  'attributes': {'title': 'Biomass of Col-0 Arabidopsis rosette and individual leaves',\n",
       "   'description': 'Data for Figs. 2I, 2J, 2K in Chew et al. PNAS 2014 \\r\\nFresh biomass, dry biomass (i.e. after baking out all water), \\r\\nSLA - specific leaf area (area per g) \\r\\n\\r\\nThe same data are available on the BioDare resource, with additional experimental meta data on growth conditions. \\r\\nBioDare ID 13790828881028, title \"Physiology experiment using Col\", the direct link is: \\r\\nhttps://www.biodare.ed.ac.uk/robust/ShowExperiment.action?experimentId=13790828881028',\n",
       "   'license': 'CC0-1.0',\n",
       "   'latest_version': 1,\n",
       "   'tags': None,\n",
       "   'versions': [{'version': 1,\n",
       "     'revision_comments': None,\n",
       "     'url': 'https://fairdomhub.org/data_files/2222?version=1'}],\n",
       "   'version': 1,\n",
       "   'revision_comments': None,\n",
       "   'created_at': '2018-08-22T15:01:10.000Z',\n",
       "   'updated_at': '2018-09-03T11:19:56.000Z',\n",
       "   'content_blobs': [{'original_filename': 'Biomass Col.xlsx',\n",
       "     'url': None,\n",
       "     'md5sum': '4151182e10eef1c1e55b5cafbe97456d',\n",
       "     'sha1sum': 'd9b2a2cf5baeb48a49b33b7dca96104168fc296d',\n",
       "     'content_type': 'application/vnd.openxmlformats-officedocument.spreadsheetml.sheet',\n",
       "     'link': 'https://fairdomhub.org/data_files/2222/content_blobs/5814',\n",
       "     'size': 72820}],\n",
       "   'other_creators': 'Benedicte Wenden'},\n",
       "  'relationships': {'creators': {'data': [{'id': '854', 'type': 'people'}]},\n",
       "   'submitter': {'data': [{'id': '850', 'type': 'people'}]},\n",
       "   'people': {'data': [{'id': '854', 'type': 'people'},\n",
       "     {'id': '850', 'type': 'people'}]},\n",
       "   'projects': {'data': [{'id': '59', 'type': 'projects'}]},\n",
       "   'investigations': {'data': [{'id': '222', 'type': 'investigations'}]},\n",
       "   'studies': {'data': [{'id': '400', 'type': 'studies'}]},\n",
       "   'assays': {'data': [{'id': '709', 'type': 'assays'}]},\n",
       "   'publications': {'data': []},\n",
       "   'events': {'data': []}},\n",
       "  'links': {'self': '/data_files/2222?version=1'},\n",
       "  'meta': {'created': '2018-08-22T15:01:09.000Z',\n",
       "   'modified': '2018-09-03T11:19:56.000Z',\n",
       "   'api_version': '0.2',\n",
       "   'uuid': '202cac00-884a-0136-5113-549f350973c0',\n",
       "   'base_url': 'https://fairdomhub.org'}},\n",
       " 'jsonapi': {'version': '1.0'}}"
      ]
     },
     "execution_count": 1,
     "metadata": {},
     "output_type": "execute_result"
    }
   ],
   "source": [
    "import requests\n",
    "import json\n",
    "import string\n",
    "\n",
    "# Importing the libraries we need to format the data in a more readable way. \n",
    "import pandas as pd\n",
    "from pandas.io.json import json_normalize\n",
    "\n",
    "from IPython.core.interactiveshell import InteractiveShell\n",
    "InteractiveShell.ast_node_interactivity = \"all\"\n",
    "base_url = 'https://www.fairdomhub.org'\n",
    "\n",
    "def json_for_resource(type, id):    \n",
    "\n",
    "  headers = {\"Accept\": \"application/vnd.api+json\",\n",
    "           \"Accept-Charset\": \"ISO-8859-1\"}\n",
    "  r = requests.get(base_url + \"/\" + type + \"/\" + str(id), headers=headers)\n",
    "  r.raise_for_status()\n",
    "  return r.json()\n",
    "\n",
    "\n",
    "project_id = 2222\n",
    "\n",
    "result = json_for_resource('data_files',project_id)\n",
    "\n",
    "\n",
    "print(\"Project: \" + result['data']['attributes']['title'] + \"\\n\")\n",
    "\n",
    "result"
   ]
  }
 ],
 "metadata": {
  "kernelspec": {
   "display_name": "Python 3",
   "language": "python",
   "name": "python3"
  },
  "language_info": {
   "codemirror_mode": {
    "name": "ipython",
    "version": 3
   },
   "file_extension": ".py",
   "mimetype": "text/x-python",
   "name": "python",
   "nbconvert_exporter": "python",
   "pygments_lexer": "ipython3",
   "version": "3.6.6"
  }
 },
 "nbformat": 4,
 "nbformat_minor": 2
}
