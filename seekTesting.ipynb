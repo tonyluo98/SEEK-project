{
 "cells": [
  {
   "cell_type": "code",
   "execution_count": 1,
   "metadata": {},
   "outputs": [],
   "source": [
    "import seek_library as s \n",
    "x= s.SEEK()"
   ]
  },
  {
   "cell_type": "code",
   "execution_count": null,
   "metadata": {},
   "outputs": [],
   "source": [
    "x.query()"
   ]
  },
  {
   "cell_type": "code",
   "execution_count": null,
   "metadata": {},
   "outputs": [],
   "source": [
    "x.search()"
   ]
  },
  {
   "cell_type": "code",
   "execution_count": null,
   "metadata": {},
   "outputs": [],
   "source": [
    "x.change_url()"
   ]
  },
  {
   "cell_type": "code",
   "execution_count": 2,
   "metadata": {},
   "outputs": [
    {
     "name": "stdout",
     "output_type": "stream",
     "text": [
      "Username:tonyluo\n",
      "Password········\n",
      "{'data': {'id': '11', 'type': 'investigations', 'attributes': {'policy': {'access': 'no_access', 'permissions': []}, 'snapshots': None, 'title': 'test: 1 via api', 'description': 'test 1 via api at making a investigation', 'other_creators': None}, 'relationships': {'creators': {'data': []}, 'submitter': {'data': [{'id': '11', 'type': 'people'}]}, 'people': {'data': [{'id': '11', 'type': 'people'}]}, 'projects': {'data': [{'id': '3', 'type': 'projects'}]}, 'studies': {'data': []}, 'assays': {'data': []}, 'data_files': {'data': []}, 'models': {'data': []}, 'sops': {'data': []}, 'publications': {'data': []}, 'documents': {'data': []}}, 'links': {'self': '/investigations/11'}, 'meta': {'created': '2020-02-16T23:55:58.000Z', 'modified': '2020-02-16T23:55:58.000Z', 'api_version': '0.2', 'uuid': 'cd0261d0-3345-0138-acee-0242ac120004', 'base_url': 'https://sandbox3.fairdomhub.org'}}, 'jsonapi': {'version': '1.0'}}\n",
      "---------------------\n",
      "11\n",
      "---------------------\n",
      "11\n",
      "{'data': {'id': '4', 'type': 'studies', 'attributes': {'policy': {'access': 'view', 'permissions': [{'resource': {'id': '1', 'type': 'people'}, 'access': 'manage'}]}, 'snapshots': None, 'title': 'test: 1 via api', 'description': 'test 1 via api at making a study', 'experimentalists': None, 'other_creators': None, 'person_responsible_id': None}, 'relationships': {'creators': {'data': []}, 'submitter': {'data': [{'id': '11', 'type': 'people'}]}, 'people': {'data': [{'id': '11', 'type': 'people'}]}, 'projects': {'data': [{'id': '3', 'type': 'projects'}]}, 'investigation': {'data': {'id': '11', 'type': 'investigations'}}, 'assays': {'data': []}, 'data_files': {'data': []}, 'models': {'data': []}, 'sops': {'data': []}, 'publications': {'data': []}, 'documents': {'data': []}}, 'links': {'self': '/studies/4'}, 'meta': {'created': '2020-02-16T23:55:58.000Z', 'modified': '2020-02-16T23:55:58.000Z', 'api_version': '0.2', 'uuid': 'cd43a4b0-3345-0138-acef-0242ac120004', 'base_url': 'https://sandbox3.fairdomhub.org'}}, 'jsonapi': {'version': '1.0'}}\n",
      "---------------------\n",
      "4\n",
      "---------------------\n",
      "4\n",
      "{'data': {'id': '2', 'type': 'assays', 'attributes': {'policy': {'access': 'view', 'permissions': []}, 'snapshots': None, 'title': 'test: 1 via api', 'description': 'test 1 via api at making a assay', 'other_creators': None, 'assay_class': {'title': 'Experimental assay', 'key': 'EXP', 'description': None}, 'assay_type': {'label': 'Metabolomics', 'uri': 'http://jermontology.org/ontology/JERMOntology#Metabolomics'}, 'technology_type': {'label': 'Electrophoresis', 'uri': 'http://jermontology.org/ontology/JERMOntology#Electrophoresis'}, 'tags': None}, 'relationships': {'creators': {'data': []}, 'submitter': {'data': [{'id': '11', 'type': 'people'}]}, 'organisms': {'data': []}, 'people': {'data': [{'id': '11', 'type': 'people'}]}, 'projects': {'data': [{'id': '3', 'type': 'projects'}]}, 'investigation': {'data': {'id': '11', 'type': 'investigations'}}, 'study': {'data': {'id': '4', 'type': 'studies'}}, 'data_files': {'data': []}, 'models': {'data': []}, 'sops': {'data': []}, 'publications': {'data': []}, 'documents': {'data': []}}, 'links': {'self': '/assays/2'}, 'meta': {'created': '2020-02-16T23:55:59.000Z', 'modified': '2020-02-16T23:55:59.000Z', 'api_version': '0.2', 'uuid': 'cd8a8bb0-3345-0138-acee-0242ac120004', 'base_url': 'https://sandbox3.fairdomhub.org'}}, 'jsonapi': {'version': '1.0'}}\n",
      "---------------------\n",
      "2\n",
      "---------------------\n",
      "2\n"
     ]
    }
   ],
   "source": [
    "x.post()"
   ]
  },
  {
   "cell_type": "code",
   "execution_count": null,
   "metadata": {},
   "outputs": [],
   "source": [
    "x.auth()"
   ]
  }
 ],
 "metadata": {
  "kernelspec": {
   "display_name": "Python 3",
   "language": "python",
   "name": "python3"
  },
  "language_info": {
   "codemirror_mode": {
    "name": "ipython",
    "version": 3
   },
   "file_extension": ".py",
   "mimetype": "text/x-python",
   "name": "python",
   "nbconvert_exporter": "python",
   "pygments_lexer": "ipython3",
   "version": "3.6.9"
  }
 },
 "nbformat": 4,
 "nbformat_minor": 2
}
