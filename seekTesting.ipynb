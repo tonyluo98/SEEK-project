{
 "cells": [
  {
   "cell_type": "code",
   "execution_count": 1,
   "metadata": {},
   "outputs": [
    {
     "data": {
      "application/vnd.jupyter.widget-view+json": {
       "model_id": "823c631b4fd54668b69cae066d788d9c",
       "version_major": 2,
       "version_minor": 0
      },
      "text/plain": [
       "Tab(children=(VBox(children=(Dropdown(description='Search Type:', options=('Project', 'Investigation', 'Study'…"
      ]
     },
     "metadata": {},
     "output_type": "display_data"
    }
   ],
   "source": [
    "import seek_library as s \n",
    "x= s.SEEK()"
   ]
  },
  {
   "cell_type": "code",
   "execution_count": 2,
   "metadata": {
    "scrolled": false
   },
   "outputs": [
    {
     "data": {
      "application/vnd.jupyter.widget-view+json": {
       "model_id": "1a94154fd0564c63a94b600ac1b20b83",
       "version_major": 2,
       "version_minor": 0
      },
      "text/plain": [
       "HTML(value='<h1><u>BaCell-SysMO</u></h1>')"
      ]
     },
     "metadata": {},
     "output_type": "display_data"
    },
    {
     "name": "stdout",
     "output_type": "stream",
     "text": [
      "BaCell-SysMO 2\r\n",
      "Modelling carbon core metabolism in Bacillus subtilis – Exploring the contribution of protein complexes in core carbon and nitrogen metabolism.\r\n",
      "\r\n",
      "Bacillus subtilis is a prime model organism for systems biology approaches because it is one of the most advanced models for functional genomics. Furthermore, comprehensive information on cell and molecular biology, physiology and genetics is available and the European Bacillus community (BACELL) has a well-established reputation for applying this information and technologies to address fundamental issues in life sciences. \r\n",
      "Beyond its scientific relevance B. subtilis is an industrial workhorse of “white biotechnology” as a main producer of technical enzymes and other products.\r\n",
      "In the first funding period we have used a systems biology approach to analyze the transition from exponential phase to stationary phase. Within the context of this project we have analyzed both modules of gene expression as well as metabolic changes. One of the major findings was the discovery that metabolic and regulatory activities do not appear to be dispersed in the cell, but rather exist in defined and distinct protein complexes. The complexes that we have detected in B. subtilis include the glycolytic enzymes PFK, PGM, and ENO (the glycosome) and an RNA degrading machine, the degradosome. These findings contrast with the text-book view that many processes occur in dedicated compartments in eukaryotic cells, whereas little internal structure is present in prokaryotes. However, the existence of such complexes has major consequences for our understanding of the biology of B. subtilis and other bacteria since they may affect the local concentrations of not just the metabolites, but also the proteins themselves within a given pathway and thus impact on the reaction kinetics. \r\n",
      "Therefore, we want to concentrate our efforts in the second funding period onto the elucidation of the contribution of protein complexes to the function of central carbon and nitrogen metabolism during nutrient shifts and environmental adaptations. The analysis of the impact of metabolic complexes on cellular physiology is highly relevant and an excellent topic for systems biology. So far, it has been possible to model metabolism of B. subtilis with the inherent assumption that both metabolites and enzymes are more or less evenly distributed in the cell. However, since the existence of enzyme complexes would have a dramatic impact on the kinetics of the reactions and the relevant local concentrations of metabolites, we would like to address the so far largely unexplored but important issue of (micro)compartmentalisation using a new set of experimental and modelling approaches.  We will combine experimental monitoring of in vivo complexes with conventional metabolic modelling to identify nodes in which protein complexes are functionally important. These complexes and their dynamics will then be studied in detail by a combination of in vivo and in vitro approaches up to crystallization of selected complexes to provide data which will allow refinement of the models generated.\r\n",
      "Main goals\r\n",
      "-\tElucidation of the functional importance of protein complexes for the physiology of B. subtilis using its central metabolism as example\r\n",
      "-\tContribution to the general understanding of metabolic compartments in bacteria, leading to new strategies for metabolic modeling that take the existence and importance of such complexes into account\r\n",
      "-\tProviding a framework for the analysis of functionally important protein complexes that can then be extended to other bacteria including related low-GC Gram-positive pathogens\r\n",
      "\n"
     ]
    },
    {
     "data": {
      "application/vnd.jupyter.widget-view+json": {
       "model_id": "4e4d91d4270d42aba3011bf298c984d0",
       "version_major": 2,
       "version_minor": 0
      },
      "text/plain": [
       "Tab(children=(VBox(children=(SelectMultiple(description='Title :', index=(0,), layout=Layout(width='400px'), o…"
      ]
     },
     "metadata": {},
     "output_type": "display_data"
    },
    {
     "data": {
      "application/vnd.jupyter.widget-view+json": {
       "model_id": "725711eac10248e29f81269611269f51",
       "version_major": 2,
       "version_minor": 0
      },
      "text/plain": [
       "Tab(children=(VBox(children=(SelectMultiple(description='Title :', layout=Layout(width='750px'), options=(), r…"
      ]
     },
     "metadata": {},
     "output_type": "display_data"
    }
   ],
   "source": [
    "x.search()"
   ]
  },
  {
   "cell_type": "code",
   "execution_count": null,
   "metadata": {},
   "outputs": [],
   "source": [
    "            x.search()"
   ]
  },
  {
   "cell_type": "code",
   "execution_count": null,
   "metadata": {},
   "outputs": [],
   "source": [
    "x.SEEK_search.x1()"
   ]
  },
  {
   "cell_type": "code",
   "execution_count": null,
   "metadata": {},
   "outputs": [],
   "source": [
    "x.SEEK_search.x2()\n"
   ]
  },
  {
   "cell_type": "code",
   "execution_count": null,
   "metadata": {},
   "outputs": [],
   "source": [
    "x.SEEK_search.x3()"
   ]
  },
  {
   "cell_type": "code",
   "execution_count": null,
   "metadata": {},
   "outputs": [],
   "source": [
    "x.SEEK_search.x4()"
   ]
  }
 ],
 "metadata": {
  "kernelspec": {
   "display_name": "Python 3",
   "language": "python",
   "name": "python3"
  },
  "language_info": {
   "codemirror_mode": {
    "name": "ipython",
    "version": 3
   },
   "file_extension": ".py",
   "mimetype": "text/x-python",
   "name": "python",
   "nbconvert_exporter": "python",
   "pygments_lexer": "ipython3",
   "version": "3.6.9"
  }
 },
 "nbformat": 4,
 "nbformat_minor": 2
}
