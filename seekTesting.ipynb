{
 "cells": [
  {
   "cell_type": "code",
   "execution_count": 1,
   "metadata": {
    "scrolled": false
   },
   "outputs": [
    {
     "data": {
      "application/vnd.jupyter.widget-view+json": {
       "model_id": "7a83a39cc5c045db923f8b5e7b054329",
       "version_major": 2,
       "version_minor": 0
      },
      "text/plain": [
       "Tab(children=(VBox(children=(Dropdown(description='Search Type:', options=('Investigation', 'Assay', 'Study', …"
      ]
     },
     "metadata": {},
     "output_type": "display_data"
    }
   ],
   "source": [
    "import seek_library as s \n",
    "x= s.SEEK()"
   ]
  },
  {
   "cell_type": "code",
   "execution_count": 2,
   "metadata": {
    "scrolled": false
   },
   "outputs": [
    {
     "data": {
      "application/vnd.jupyter.widget-view+json": {
       "model_id": "63cd1225e43d4c2f890eac19f6531d0c",
       "version_major": 2,
       "version_minor": 0
      },
      "text/plain": [
       "HTML(value=\"<h1><u>Creating data sheet template for 'omics data</u></h1>\")"
      ]
     },
     "metadata": {},
     "output_type": "display_data"
    },
    {
     "name": "stdout",
     "output_type": "stream",
     "text": [
      "Data integration is an essential part of Systems Biology. Scientists need to combine different sources of information in order to model biological systems, and relate those models to available experimental data for validation. Currently, only a small fraction of the data and models produced during Systems Biology investigations are deposited for reuse by the community, and only a smaller fraction of that data is standards compliant, semantic content.  \r\n",
      "By embedding semantic technologies into familiar data management tools, the SEEK [1] enables semantic annotation of new data and the generation and querying of linkeddata  compliant datasets, whilst hiding the complexities of ontologies and metadata from its users. \r\n",
      "This investigation contains spreadsheet templates and examples for SEEK users to download and use for structuring experimental data.  Templates make use of the Minimal Information Models (https://www.biosharing.org), which have been collected under the umbrella of MIBBI (Minimum Information for Biological and Biomedical Investigations). \r\n",
      "These templates were developed by FAIRDOM  team,  FAIRDOM PALs,  and SEEK users\r\n",
      "\r\n",
      "\n"
     ]
    },
    {
     "data": {
      "application/vnd.jupyter.widget-view+json": {
       "model_id": "6f7982cedc424474a25abf171e041a5b",
       "version_major": 2,
       "version_minor": 0
      },
      "text/plain": [
       "Tab(children=(VBox(children=(SelectMultiple(description='Name :', index=(0,), layout=Layout(width='300px'), op…"
      ]
     },
     "metadata": {},
     "output_type": "display_data"
    },
    {
     "name": "stdout",
     "output_type": "stream",
     "text": [
      "start\n",
      "{'19': 'FAIRDOM', '51': 'FAIRDOM user meeting', '12': 'SysMO DB'}\n",
      "['51', '19', '12']\n",
      "end\n",
      "start\n",
      "{'14': 'Creating Templates for Proteomics', '13': 'Creating Templates for Transcriptomics', '1': 'Creating template for metabolomics data'}\n",
      "['14', '13', '1']\n",
      "end\n",
      "start\n",
      "{'1': 'Standard-based Excel template for metabolomics data', '152': 'NimbleGen Transcriptomics Templates', '150': 'RT-PCR Excel Template', '148': 'Metabolomics Master Template', '154': 'Proteomics Template (gel electrophoresis)', '17': 'General Transcriptomics Templates', '149': 'Affy Transcriptomics Templates', '18': 'Proteomics Templates (Mass spectrometry)', '151': 'Chip-chip Excel Template'}\n",
      "['148', '1', '154', '152', '151', '150', '149', '18', '17']\n",
      "end\n"
     ]
    },
    {
     "data": {
      "application/vnd.jupyter.widget-view+json": {
       "model_id": "58ed08365e294f7eb9acbc24330d7b65",
       "version_major": 2,
       "version_minor": 0
      },
      "text/plain": [
       "Tab(children=(VBox(children=(SelectMultiple(description='Title :', layout=Layout(width='600px'), options=(), r…"
      ]
     },
     "metadata": {},
     "output_type": "display_data"
    }
   ],
   "source": [
    "x.search()"
   ]
  },
  {
   "cell_type": "code",
   "execution_count": null,
   "metadata": {},
   "outputs": [],
   "source": [
    "x.SEEK_search.xx()"
   ]
  },
  {
   "cell_type": "code",
   "execution_count": null,
   "metadata": {},
   "outputs": [],
   "source": [
    "x.SEEK_search.x1()"
   ]
  },
  {
   "cell_type": "code",
   "execution_count": null,
   "metadata": {},
   "outputs": [],
   "source": [
    "x.SEEK_search.x2()\n"
   ]
  },
  {
   "cell_type": "code",
   "execution_count": null,
   "metadata": {},
   "outputs": [],
   "source": [
    "x.SEEK_search.x3()"
   ]
  },
  {
   "cell_type": "code",
   "execution_count": null,
   "metadata": {},
   "outputs": [],
   "source": [
    "x.SEEK_search.x4()"
   ]
  }
 ],
 "metadata": {
  "kernelspec": {
   "display_name": "Python 3",
   "language": "python",
   "name": "python3"
  },
  "language_info": {
   "codemirror_mode": {
    "name": "ipython",
    "version": 3
   },
   "file_extension": ".py",
   "mimetype": "text/x-python",
   "name": "python",
   "nbconvert_exporter": "python",
   "pygments_lexer": "ipython3",
   "version": "3.6.9"
  }
 },
 "nbformat": 4,
 "nbformat_minor": 2
}
